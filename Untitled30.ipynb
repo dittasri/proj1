{
 "cells": [
  {
   "cell_type": "code",
   "execution_count": 1,
   "id": "b0c01417",
   "metadata": {},
   "outputs": [
    {
     "name": "stdout",
     "output_type": "stream",
     "text": [
      "Python:Exercises::PHP:exercises:\n"
     ]
    }
   ],
   "source": [
    "import re\n",
    "text = 'Python Exercises, PHP exercises.'\n",
    "print(re.sub(\"[ ,.]\", \":\", text))\n"
   ]
  },
  {
   "cell_type": "code",
   "execution_count": null,
   "id": "22191138",
   "metadata": {},
   "outputs": [],
   "source": []
  },
  {
   "cell_type": "code",
   "execution_count": 1,
   "id": "b0acc4ca",
   "metadata": {},
   "outputs": [
    {
     "name": "stdout",
     "output_type": "stream",
     "text": [
      "Python:Exercises::PHP:exercises:\n"
     ]
    }
   ],
   "source": [
    "import re\n",
    "text = 'Python Exercises, PHP exercises.'\n",
    "print(re.sub(\"[ ,.]\", \":\", text))\n"
   ]
  },
  {
   "cell_type": "code",
   "execution_count": 2,
   "id": "f8b34bee",
   "metadata": {},
   "outputs": [
    {
     "name": "stdout",
     "output_type": "stream",
     "text": [
      "         SUMMARY\n",
      "0    hello world\n",
      "1     XXXXX test\n",
      "2  four five six\n"
     ]
    }
   ],
   "source": [
    "import pandas as pd\n",
    "import re\n",
    "\n",
    "data = {'SUMMARY': ['hello, world!', 'XXXXX test', '123four, five:; six...']}\n",
    "df = pd.DataFrame(data)\n",
    "\n",
    "# Function to remove non-word characters\n",
    "def remove_non_words(text):\n",
    "    return re.sub(r'[^A-Za-z\\s]', '', text)\n",
    "\n",
    "# Apply the function to the 'SUMMARY' column\n",
    "df['SUMMARY'] = df['SUMMARY'].apply(remove_non_words)\n",
    "\n",
    "# Display the cleaned DataFrame\n",
    "print(df)\n"
   ]
  },
  {
   "cell_type": "code",
   "execution_count": 3,
   "id": "d7c1058a",
   "metadata": {},
   "outputs": [
    {
     "name": "stdout",
     "output_type": "stream",
     "text": [
      "['This', 'sample', 'sentence', 'with', 'some', 'words', 'different', 'lengths', 'such', 'word', 'longword', 'short']\n"
     ]
    }
   ],
   "source": [
    "import re\n",
    "\n",
    "def find_words_at_least_4_characters(text):\n",
    "    # Define a regular expression pattern to match words with at least 4 characters\n",
    "    pattern = re.compile(r'\\b\\w{4,}\\b')\n",
    "    \n",
    "    # Find all matches in the input text\n",
    "    matches = pattern.findall(text)\n",
    "    \n",
    "    return matches\n",
    "\n",
    "# Example usage\n",
    "text = \"This is a sample sentence with some words of different lengths, such as 'word', 'longword', and 'short'.\"\n",
    "result = find_words_at_least_4_characters(text)\n",
    "print(result)\n"
   ]
  },
  {
   "cell_type": "code",
   "execution_count": 4,
   "id": "35cc0d28",
   "metadata": {},
   "outputs": [
    {
     "name": "stdout",
     "output_type": "stream",
     "text": [
      "['This', 'with', 'some', 'words', 'such', 'word', 'and', 'short']\n"
     ]
    }
   ],
   "source": [
    "import re\n",
    "\n",
    "def find_words_with_length_range(text, min_length=3, max_length=5):\n",
    "    # Define a regular expression pattern to match words within the specified length range\n",
    "    pattern = re.compile(r'\\b\\w{%d,%d}\\b' % (min_length, max_length))\n",
    "    \n",
    "    # Find all matches in the input text\n",
    "    matches = pattern.findall(text)\n",
    "    \n",
    "    return matches\n",
    "\n",
    "# Example usage\n",
    "text = \"This is a sample sentence with some words of different lengths, such as 'word', 'longword', and 'short'.\"\n",
    "result = find_words_with_length_range(text, min_length=3, max_length=5)\n",
    "print(result)\n"
   ]
  },
  {
   "cell_type": "code",
   "execution_count": 1,
   "id": "f811dff2",
   "metadata": {
    "scrolled": true
   },
   "outputs": [
    {
     "name": "stdout",
     "output_type": "stream",
     "text": [
      "example \n",
      "hr@fliprobo \n",
      "github \n",
      "Hello \n",
      "Data \n"
     ]
    }
   ],
   "source": [
    "import re\n",
    "\n",
    "def remove_parentheses(strings):\n",
    "    # Define a regular expression pattern to match and remove parentheses\n",
    "    pattern = re.compile(r'\\([^)]*\\)')\n",
    "\n",
    "    # Iterate through the list of strings and remove parentheses\n",
    "    cleaned_strings = [pattern.sub('', string) for string in strings]\n",
    "\n",
    "    return cleaned_strings\n",
    "\n",
    "# Sample text\n",
    "sample_text = [\"example (.com)\", \"hr@fliprobo (.com)\", \"github (.com)\", \"Hello (Data Science World)\", \"Data (Scientist)\"]\n",
    "\n",
    "# Remove parentheses from the sample text\n",
    "cleaned_text = remove_parentheses(sample_text)\n",
    "\n",
    "# Print the result\n",
    "for text in cleaned_text:\n",
    "    print(text)"
   ]
  },
  {
   "cell_type": "code",
   "execution_count": 6,
   "id": "300d0b03",
   "metadata": {},
   "outputs": [
    {
     "name": "stdout",
     "output_type": "stream",
     "text": [
      "Normalized Text: This is a sample text.\n"
     ]
    }
   ],
   "source": [
    "import re\n",
    "\n",
    "text = \"This      is     a    sample  text.\"\n",
    "normalized_text = re.sub(r'\\s+', ' ', text)\n",
    "print(\"Normalized Text:\", normalized_text)"
   ]
  },
  {
   "cell_type": "code",
   "execution_count": 7,
   "id": "028851d1",
   "metadata": {},
   "outputs": [
    {
     "name": "stdout",
     "output_type": "stream",
     "text": [
      "IOREIP\n"
     ]
    }
   ],
   "source": [
    "import re\n",
    "\n",
    "text = \"ImportanceOfRegularExpressionsInPython\"\n",
    "uppercase_letters = re.findall(r'[A-Z]', text)\n",
    "\n",
    "# Join the uppercase letters into a single string\n",
    "uppercase_string = ''.join(uppercase_letters)\n",
    "\n",
    "print(uppercase_string)\n"
   ]
  },
  {
   "cell_type": "code",
   "execution_count": 8,
   "id": "363f5fcd",
   "metadata": {},
   "outputs": [
    {
     "name": "stdout",
     "output_type": "stream",
     "text": [
      "RegularExpression 1 IsAn 2 ImportantTopic 3 InPython\n"
     ]
    }
   ],
   "source": [
    "import re\n",
    "\n",
    "def insert_spaces_between_words_with_numbers(text):\n",
    "    # Use a regular expression to find words starting with numbers\n",
    "    pattern = r'(?<=\\D)(?=\\d)|(?<=\\d)(?=\\D)'\n",
    "    modified_text = re.sub(pattern, ' ', text)\n",
    "    return modified_text\n",
    "\n",
    "sample_text = \"RegularExpression1IsAn2ImportantTopic3InPython\"\n",
    "result = insert_spaces_between_words_with_numbers(sample_text)\n",
    "print(result)\n"
   ]
  },
  {
   "cell_type": "code",
   "execution_count": 9,
   "id": "1bb4613e",
   "metadata": {},
   "outputs": [
    {
     "name": "stdout",
     "output_type": "stream",
     "text": [
      "Regular Expression 1 Is An 2 Important Topic 3 In Python\n"
     ]
    }
   ],
   "source": [
    "import re\n",
    "\n",
    "def insert_spaces_between_words_with_capitals_or_numbers(text):\n",
    "    # Use a regular expression to find words starting with capital letters or numbers\n",
    "    pattern = r'(?<=[A-Z0-9])(?=[A-Z])|(?<=[a-z0-9])(?=[A-Z0-9])'\n",
    "    modified_text = re.sub(pattern, ' ', text)\n",
    "    return modified_text\n",
    "\n",
    "sample_text = \"RegularExpression1IsAn2ImportantTopic3InPython\"\n",
    "result = insert_spaces_between_words_with_capitals_or_numbers(sample_text)\n",
    "print(result)\n"
   ]
  },
  {
   "cell_type": "code",
   "execution_count": 10,
   "id": "a7181d71",
   "metadata": {},
   "outputs": [
    {
     "name": "stdout",
     "output_type": "stream",
     "text": [
      "The string \"Valid_String_123\" is valid.\n"
     ]
    }
   ],
   "source": [
    "import re\n",
    "\n",
    "def is_valid_string(s):\n",
    "    pattern = r'^[a-zA-Z0-9_]*$'\n",
    "    return bool(re.match(pattern, s))\n",
    "\n",
    "# Test the function\n",
    "input_string = \"Valid_String_123\"\n",
    "if is_valid_string(input_string):\n",
    "    print(f'The string \"{input_string}\" is valid.')\n",
    "else:\n",
    "    print(f'The string \"{input_string}\" is not valid.')\n"
   ]
  },
  {
   "cell_type": "code",
   "execution_count": 11,
   "id": "9a186f07",
   "metadata": {},
   "outputs": [
    {
     "name": "stdout",
     "output_type": "stream",
     "text": [
      "The string \"12345example\" starts with the number 123.\n"
     ]
    }
   ],
   "source": [
    "def starts_with_number(input_string, number):\n",
    "    # Convert the number to a string and check if the input string starts with it\n",
    "    number_str = str(number)\n",
    "    return input_string.startswith(number_str)\n",
    "\n",
    "# Test the function\n",
    "input_string = \"12345example\"\n",
    "specific_number = 123\n",
    "if starts_with_number(input_string, specific_number):\n",
    "    print(f'The string \"{input_string}\" starts with the number {specific_number}.')\n",
    "else:\n",
    "    print(f'The string \"{input_string}\" does not start with the number {specific_number}.')\n"
   ]
  },
  {
   "cell_type": "code",
   "execution_count": 12,
   "id": "8f021286",
   "metadata": {},
   "outputs": [
    {
     "name": "stdout",
     "output_type": "stream",
     "text": [
      "Original IP Address: 192.010.001.003\n",
      "Cleaned IP Address: 192.10.1.3\n"
     ]
    }
   ],
   "source": [
    "def remove_leading_zeros(ip_address):\n",
    "    # Split the IP address into octets\n",
    "    octets = ip_address.split('.')\n",
    "    \n",
    "    # Remove leading zeros from each octet\n",
    "    cleaned_octets = [str(int(octet)) for octet in octets]\n",
    "    \n",
    "    # Rejoin the cleaned octets to form the IP address\n",
    "    cleaned_ip_address = '.'.join(cleaned_octets)\n",
    "    \n",
    "    return cleaned_ip_address\n",
    "\n",
    "# Test the function\n",
    "ip_address = \"192.010.001.003\"\n",
    "cleaned_ip = remove_leading_zeros(ip_address)\n",
    "print(f'Original IP Address: {ip_address}')\n",
    "print(f'Cleaned IP Address: {cleaned_ip}')\n"
   ]
  },
  {
   "cell_type": "code",
   "execution_count": 13,
   "id": "6e74c8c5",
   "metadata": {},
   "outputs": [
    {
     "name": "stdout",
     "output_type": "stream",
     "text": [
      "Found date: August 15, 1947\n"
     ]
    }
   ],
   "source": [
    "import re\n",
    "\n",
    "text = \"On August 15th 1947 that India was declared independent from British colonialism, and the reins of control were handed over to the leaders of the Country.\"\n",
    "\n",
    "# Define a regular expression pattern to match the date\n",
    "date_pattern = r'\\b([A-Z][a-z]+) (\\d{1,2})(?:st|nd|rd|th)? (\\d{4})\\b'\n",
    "\n",
    "# Find all matches in the text\n",
    "matches = re.findall(date_pattern, text)\n",
    "\n",
    "# Extract and print the matched dates\n",
    "for match in matches:\n",
    "    month, day, year = match\n",
    "    print(f\"Found date: {month} {day}, {year}\")\n"
   ]
  },
  {
   "cell_type": "code",
   "execution_count": 14,
   "id": "b8c1fe10",
   "metadata": {},
   "outputs": [
    {
     "name": "stdout",
     "output_type": "stream",
     "text": [
      "Sample text: The quick brown fox jumps over the lazy dog.\n",
      "Searched words: ['fox', 'dog', 'horse']\n",
      "Found words: ['fox', 'dog']\n"
     ]
    }
   ],
   "source": [
    "def search_literals(text, words):\n",
    "    found_words = []\n",
    "    for word in words:\n",
    "        if word in text:\n",
    "            found_words.append(word)\n",
    "    return found_words\n",
    "\n",
    "sample_text = 'The quick brown fox jumps over the lazy dog.'\n",
    "searched_words = ['fox', 'dog', 'horse']\n",
    "\n",
    "found_words = search_literals(sample_text, searched_words)\n",
    "\n",
    "print(\"Sample text:\", sample_text)\n",
    "print(\"Searched words:\", searched_words)\n",
    "print(\"Found words:\", found_words)\n"
   ]
  },
  {
   "cell_type": "code",
   "execution_count": 15,
   "id": "03c96f66",
   "metadata": {},
   "outputs": [
    {
     "name": "stdout",
     "output_type": "stream",
     "text": [
      "Sample text: The quick brown fox jumps over the lazy dog.\n",
      "Searched word: fox\n",
      "Found at position(s): [16]\n"
     ]
    }
   ],
   "source": [
    "def search_and_find(text, pattern):\n",
    "    found_positions = []\n",
    "    start = text.find(pattern)\n",
    "    \n",
    "    while start != -1:\n",
    "        found_positions.append(start)\n",
    "        start = text.find(pattern, start + 1)\n",
    "    \n",
    "    return found_positions\n",
    "\n",
    "sample_text = 'The quick brown fox jumps over the lazy dog.'\n",
    "searched_word = 'fox'\n",
    "\n",
    "found_positions = search_and_find(sample_text, searched_word)\n",
    "\n",
    "print(\"Sample text:\", sample_text)\n",
    "print(\"Searched word:\", searched_word)\n",
    "if found_positions:\n",
    "    print(\"Found at position(s):\", found_positions)\n",
    "else:\n",
    "    print(\"Word not found in the text.\")\n"
   ]
  },
  {
   "cell_type": "code",
   "execution_count": 16,
   "id": "97f51e22",
   "metadata": {},
   "outputs": [
    {
     "name": "stdout",
     "output_type": "stream",
     "text": [
      "Sample text: Python exercises, PHP exercises, C# exercises\n",
      "Searched pattern: exercises\n",
      "Pattern found at position(s): [7, 22, 36]\n"
     ]
    }
   ],
   "source": [
    "def find_substrings(text, pattern):\n",
    "    found_positions = []\n",
    "    start = 0\n",
    "\n",
    "    while start < len(text):\n",
    "        start = text.find(pattern, start)\n",
    "        if start == -1:\n",
    "            break\n",
    "        found_positions.append(start)\n",
    "        start += len(pattern)\n",
    "\n",
    "    return found_positions\n",
    "\n",
    "sample_text = 'Python exercises, PHP exercises, C# exercises'\n",
    "searched_pattern = 'exercises'\n",
    "\n",
    "found_positions = find_substrings(sample_text, searched_pattern)\n",
    "\n",
    "print(\"Sample text:\", sample_text)\n",
    "print(\"Searched pattern:\", searched_pattern)\n",
    "if found_positions:\n",
    "    print(\"Pattern found at position(s):\", found_positions)\n",
    "else:\n",
    "    print(\"Pattern not found in the text.\")\n"
   ]
  },
  {
   "cell_type": "code",
   "execution_count": 17,
   "id": "061a2b54",
   "metadata": {},
   "outputs": [
    {
     "name": "stdout",
     "output_type": "stream",
     "text": [
      "Sample text: Python exercises, PHP exercises, C# exercises, Python exercises\n",
      "Searched pattern: exercises\n",
      "Occurrence 1 found at position 7\n",
      "Occurrence 2 found at position 22\n",
      "Occurrence 3 found at position 36\n",
      "Occurrence 4 found at position 54\n"
     ]
    }
   ],
   "source": [
    "def find_occurrence_positions(text, pattern):\n",
    "    found_positions = []\n",
    "    occurrence_count = 0\n",
    "    start = 0\n",
    "\n",
    "    while start < len(text):\n",
    "        start = text.find(pattern, start)\n",
    "        if start == -1:\n",
    "            break\n",
    "        found_positions.append((occurrence_count + 1, start))\n",
    "        start += len(pattern)\n",
    "        occurrence_count += 1\n",
    "\n",
    "    return found_positions\n",
    "\n",
    "sample_text = 'Python exercises, PHP exercises, C# exercises, Python exercises'\n",
    "searched_pattern = 'exercises'\n",
    "\n",
    "found_positions = find_occurrence_positions(sample_text, searched_pattern)\n",
    "\n",
    "print(\"Sample text:\", sample_text)\n",
    "print(\"Searched pattern:\", searched_pattern)\n",
    "\n",
    "if found_positions:\n",
    "    for occurrence, position in found_positions:\n",
    "        print(f\"Occurrence {occurrence} found at position {position}\")\n",
    "else:\n",
    "    print(\"Pattern not found in the text.\")\n"
   ]
  },
  {
   "cell_type": "code",
   "execution_count": 18,
   "id": "704caa36",
   "metadata": {},
   "outputs": [
    {
     "name": "stdout",
     "output_type": "stream",
     "text": [
      "Original Date: 2023-10-29\n",
      "Converted Date: 29-10-2023\n"
     ]
    }
   ],
   "source": [
    "from datetime import datetime\n",
    "\n",
    "def convert_date_format(date_str):\n",
    "    try:\n",
    "        # Parse the input date in \"yyyy-mm-dd\" format\n",
    "        input_date = datetime.strptime(date_str, '%Y-%m-%d')\n",
    "\n",
    "        # Format the date in \"dd-mm-yyyy\" format\n",
    "        formatted_date = input_date.strftime('%d-%m-%Y')\n",
    "\n",
    "        return formatted_date\n",
    "    except ValueError:\n",
    "        return \"Invalid date format\"\n",
    "\n",
    "# Test the function\n",
    "date_str = \"2023-10-29\"\n",
    "converted_date = convert_date_format(date_str)\n",
    "\n",
    "print(f\"Original Date: {date_str}\")\n",
    "print(f\"Converted Date: {converted_date}\")\n"
   ]
  },
  {
   "cell_type": "code",
   "execution_count": 19,
   "id": "5ab875a3",
   "metadata": {},
   "outputs": [
    {
     "name": "stdout",
     "output_type": "stream",
     "text": [
      "Sample Text: 01.12 0132.123 2.31875 145.8 3.01 27.25 0.25\n",
      "Decimal Numbers: ['01.12', '145.8', '3.01', '27.25', '0.25']\n"
     ]
    }
   ],
   "source": [
    "import re\n",
    "\n",
    "def find_decimal_numbers(text):\n",
    "    pattern = re.compile(r'\\b\\d+\\.\\d{1,2}\\b')\n",
    "    matches = pattern.findall(text)\n",
    "    return matches\n",
    "\n",
    "sample_text = \"01.12 0132.123 2.31875 145.8 3.01 27.25 0.25\"\n",
    "decimal_numbers = find_decimal_numbers(sample_text)\n",
    "\n",
    "print(\"Sample Text:\", sample_text)\n",
    "print(\"Decimal Numbers:\", decimal_numbers)\n"
   ]
  },
  {
   "cell_type": "code",
   "execution_count": 20,
   "id": "f1de8750",
   "metadata": {},
   "outputs": [
    {
     "name": "stdout",
     "output_type": "stream",
     "text": [
      "Sample Text: The price of item 123 is $45.67, and item 456 costs $89.99.\n",
      "Numbers and Positions:\n",
      "Number: 123, Position: 18-20\n",
      "Number: 45, Position: 26-27\n",
      "Number: 67, Position: 29-30\n",
      "Number: 456, Position: 42-44\n",
      "Number: 89, Position: 53-54\n",
      "Number: 99, Position: 56-57\n"
     ]
    }
   ],
   "source": [
    "import re\n",
    "\n",
    "def separate_and_print_numbers(text):\n",
    "    pattern = re.compile(r'\\d+')\n",
    "    matches = pattern.finditer(text)\n",
    "    \n",
    "    for match in matches:\n",
    "        number = match.group()\n",
    "        start, end = match.start(), match.end()\n",
    "        print(f\"Number: {number}, Position: {start}-{end - 1}\")\n",
    "\n",
    "sample_text = \"The price of item 123 is $45.67, and item 456 costs $89.99.\"\n",
    "print(\"Sample Text:\", sample_text)\n",
    "print(\"Numbers and Positions:\")\n",
    "separate_and_print_numbers(sample_text)\n"
   ]
  },
  {
   "cell_type": "code",
   "execution_count": 21,
   "id": "c52bb76a",
   "metadata": {},
   "outputs": [
    {
     "name": "stdout",
     "output_type": "stream",
     "text": [
      "Sample Text: My marks in each semester are: 947, 896, 926, 524, 734, 950, 642\n",
      "Maximum Numeric Value: 950\n"
     ]
    }
   ],
   "source": [
    "import re\n",
    "\n",
    "def extract_maximum_numeric_value(text):\n",
    "    pattern = r'\\d+'\n",
    "    numbers = re.findall(pattern, text)\n",
    "\n",
    "    if not numbers:\n",
    "        return None\n",
    "\n",
    "    max_number = max(map(int, numbers))\n",
    "    return max_number\n",
    "\n",
    "sample_text = 'My marks in each semester are: 947, 896, 926, 524, 734, 950, 642'\n",
    "maximum_numeric_value = extract_maximum_numeric_value(sample_text)\n",
    "\n",
    "if maximum_numeric_value is not None:\n",
    "    print(\"Sample Text:\", sample_text)\n",
    "    print(\"Maximum Numeric Value:\", maximum_numeric_value)\n",
    "else:\n",
    "    print(\"No numeric values found in the text.\")\n"
   ]
  },
  {
   "cell_type": "code",
   "execution_count": 22,
   "id": "e7341e31",
   "metadata": {},
   "outputs": [
    {
     "name": "stdout",
     "output_type": "stream",
     "text": [
      "Regular Expression Is An Important Topic In Python\n"
     ]
    }
   ],
   "source": [
    "import re\n",
    "\n",
    "def insert_spaces_between_words_with_capitals(text):\n",
    "    modified_text = re.sub(r'([a-z])([A-Z])', r'\\1 \\2', text)\n",
    "    return modified_text\n",
    "\n",
    "sample_text = \"RegularExpressionIsAnImportantTopicInPython\"\n",
    "formatted_text = insert_spaces_between_words_with_capitals(sample_text)\n",
    "print(formatted_text)\n"
   ]
  },
  {
   "cell_type": "code",
   "execution_count": 23,
   "id": "bcbcbb7f",
   "metadata": {},
   "outputs": [
    {
     "name": "stdout",
     "output_type": "stream",
     "text": [
      "This\n",
      "Sample\n",
      "Text\n",
      "With\n",
      "Mixed\n",
      "Casing\n",
      "It\n",
      "Contains\n",
      "Several\n",
      "Sequences\n",
      "Of\n",
      "Uppercase\n",
      "Lowercase\n"
     ]
    }
   ],
   "source": [
    "import re\n",
    "\n",
    "text = \"This is a Sample Text With Mixed Casing. It Contains Several Sequences Of Uppercase and Lowercase letters.\"\n",
    "\n",
    "pattern = r'[A-Z][a-z]+'\n",
    "sequences = re.findall(pattern, text)\n",
    "\n",
    "for sequence in sequences:\n",
    "    print(sequence)\n"
   ]
  },
  {
   "cell_type": "code",
   "execution_count": 24,
   "id": "02d57320",
   "metadata": {},
   "outputs": [
    {
     "name": "stdout",
     "output_type": "stream",
     "text": [
      "Hello world\n"
     ]
    }
   ],
   "source": [
    "import re\n",
    "\n",
    "def remove_continuous_duplicates(text):\n",
    "    pattern = r'\\b(\\w+)\\s+\\1\\b'\n",
    "    modified_text = re.sub(pattern, r'\\1', text, flags=re.I)  # Case-insensitive flag (re.I) is used\n",
    "\n",
    "    return modified_text\n",
    "\n",
    "sample_text = \"Hello hello world world\"\n",
    "cleaned_text = remove_continuous_duplicates(sample_text)\n",
    "print(cleaned_text)\n"
   ]
  },
  {
   "cell_type": "code",
   "execution_count": 25,
   "id": "22ac8b5e",
   "metadata": {},
   "outputs": [
    {
     "name": "stdout",
     "output_type": "stream",
     "text": [
      "\"Hello123\" ends with an alphanumeric character.\n",
      "\"Python!\" does not end with an alphanumeric character.\n",
      "\"12345\" ends with an alphanumeric character.\n",
      "\"EndingWithAlphanumeric1\" ends with an alphanumeric character.\n"
     ]
    }
   ],
   "source": [
    "import re\n",
    "\n",
    "def is_ending_with_alphanumeric(text):\n",
    "    pattern = r'^.*[a-zA-Z0-9]$'\n",
    "    return bool(re.match(pattern, text))\n",
    "\n",
    "sample_strings = [\"Hello123\", \"Python!\", \"12345\", \"EndingWithAlphanumeric1\"]\n",
    "\n",
    "for text in sample_strings:\n",
    "    if is_ending_with_alphanumeric(text):\n",
    "        print(f'\"{text}\" ends with an alphanumeric character.')\n",
    "    else:\n",
    "        print(f'\"{text}\" does not end with an alphanumeric character.')\n"
   ]
  },
  {
   "cell_type": "code",
   "execution_count": 26,
   "id": "affdc956",
   "metadata": {},
   "outputs": [
    {
     "name": "stdout",
     "output_type": "stream",
     "text": [
      "#Doltiwal\n",
      "#xyzabc\n",
      "#Demonetization\n"
     ]
    }
   ],
   "source": [
    "import re\n",
    "\n",
    "def extract_hashtags(text):\n",
    "    pattern = r'#\\w+'\n",
    "    hashtags = re.findall(pattern, text)\n",
    "    return hashtags\n",
    "\n",
    "sample_text = \"\"\"RT @kapil_kausik: #Doltiwal I mean #xyzabc is \"hurt\" by #Demonetization as the same has rendered USELESS <ed><U+00A0><U+00BD><ed><U+00B1><U+0089> \"acquired funds\" No wo\"\"\"\n",
    "\n",
    "hashtags = extract_hashtags(sample_text)\n",
    "\n",
    "for hashtag in hashtags:\n",
    "    print(hashtag)\n"
   ]
  },
  {
   "cell_type": "code",
   "execution_count": 27,
   "id": "0e96b58a",
   "metadata": {},
   "outputs": [
    {
     "name": "stdout",
     "output_type": "stream",
     "text": [
      "Sample Text:\n",
      "@Jags123456 Bharat band on 28??<ed><U+00A0><U+00BD><ed><U+00B8><U+0082>Those who are protesting #demonetization are all different party leaders\n",
      "\n",
      "Cleaned Text:\n",
      "@Jags123456 Bharat band on 28??<ed><ed>Those who are protesting #demonetization are all different party leaders\n"
     ]
    }
   ],
   "source": [
    "import re\n",
    "\n",
    "def remove_symbols(text):\n",
    "    pattern = r'<U\\+\\w{4}>'\n",
    "    cleaned_text = re.sub(pattern, '', text)\n",
    "    return cleaned_text\n",
    "\n",
    "sample_text = \"@Jags123456 Bharat band on 28??<ed><U+00A0><U+00BD><ed><U+00B8><U+0082>Those who are protesting #demonetization are all different party leaders\"\n",
    "\n",
    "cleaned_text = remove_symbols(sample_text)\n",
    "\n",
    "print(\"Sample Text:\")\n",
    "print(sample_text)\n",
    "\n",
    "print(\"\\nCleaned Text:\")\n",
    "print(cleaned_text)\n"
   ]
  },
  {
   "cell_type": "code",
   "execution_count": 28,
   "id": "915d78c6",
   "metadata": {},
   "outputs": [
    {
     "name": "stdout",
     "output_type": "stream",
     "text": [
      "Sample text has been successfully stored in \"sample.txt\" file.\n"
     ]
    }
   ],
   "source": [
    "# Sample text to be stored in the file\n",
    "sample_text = \"\"\"Ron was born on 12-09-1992 and he was admitted to school 15-12-1999.\"\"\"\n",
    "\n",
    "# File path to store the sample text\n",
    "file_path = \"sample.txt\"\n",
    "\n",
    "# Open the file in write mode and write the sample text to it\n",
    "with open(file_path, 'w') as file:\n",
    "    file.write(sample_text)\n",
    "\n",
    "print(f'Sample text has been successfully stored in \"{file_path}\" file.')\n"
   ]
  },
  {
   "cell_type": "code",
   "execution_count": 29,
   "id": "dc1a38a7",
   "metadata": {},
   "outputs": [
    {
     "name": "stdout",
     "output_type": "stream",
     "text": [
      "Dates extracted from the file:\n",
      "12-09-1992\n",
      "15-12-1999\n"
     ]
    }
   ],
   "source": [
    "import re\n",
    "\n",
    "def extract_dates_from_file(file_path):\n",
    "    dates = []\n",
    "    date_pattern = r'\\d{2}-\\d{2}-\\d{4}'\n",
    "    \n",
    "    try:\n",
    "        with open(file_path, 'r') as file:\n",
    "            text = file.read()\n",
    "            dates = re.findall(date_pattern, text)\n",
    "    except FileNotFoundError:\n",
    "        print(f\"File not found: {file_path}\")\n",
    "    \n",
    "    return dates\n",
    "\n",
    "file_path = \"sample.txt\"\n",
    "extracted_dates = extract_dates_from_file(file_path)\n",
    "\n",
    "if extracted_dates:\n",
    "    print(\"Dates extracted from the file:\")\n",
    "    for date in extracted_dates:\n",
    "        print(date)\n",
    "else:\n",
    "    print(\"No dates found in the file.\")\n"
   ]
  },
  {
   "cell_type": "code",
   "execution_count": 30,
   "id": "086d6831",
   "metadata": {},
   "outputs": [
    {
     "name": "stdout",
     "output_type": "stream",
     "text": [
      " following example creates  ArrayList  a capacity   elements. 4 elements   added   ArrayList   ArrayList  trimmed accordingly.\n"
     ]
    }
   ],
   "source": [
    "import re\n",
    "\n",
    "def remove_words_of_length_between_2_and_4(text):\n",
    "    pattern = re.compile(r'\\b\\w{2,4}\\b')\n",
    "    cleaned_text = pattern.sub('', text)\n",
    "    return cleaned_text\n",
    "\n",
    "sample_text = \"The following example creates an ArrayList with a capacity of 50 elements. 4 elements are then added to the ArrayList and the ArrayList is trimmed accordingly.\"\n",
    "cleaned_text = remove_words_of_length_between_2_and_4(sample_text)\n",
    "\n",
    "print(cleaned_text)\n"
   ]
  },
  {
   "cell_type": "code",
   "execution_count": null,
   "id": "05389c5b",
   "metadata": {},
   "outputs": [],
   "source": []
  }
 ],
 "metadata": {
  "kernelspec": {
   "display_name": "Python 3 (ipykernel)",
   "language": "python",
   "name": "python3"
  },
  "language_info": {
   "codemirror_mode": {
    "name": "ipython",
    "version": 3
   },
   "file_extension": ".py",
   "mimetype": "text/x-python",
   "name": "python",
   "nbconvert_exporter": "python",
   "pygments_lexer": "ipython3",
   "version": "3.10.9"
  }
 },
 "nbformat": 4,
 "nbformat_minor": 5
}
